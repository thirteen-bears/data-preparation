{
 "cells": [
  {
   "cell_type": "code",
   "execution_count": 1,
   "id": "3f4251d2",
   "metadata": {},
   "outputs": [],
   "source": [
    "import argparse\n",
    "import logging\n",
    "import os\n",
    "import pprint\n",
    "import sys\n",
    "import yaml"
   ]
  },
  {
   "cell_type": "code",
   "execution_count": 2,
   "id": "e2820efa",
   "metadata": {},
   "outputs": [],
   "source": [
    "logging.basicConfig(stream=sys.stdout, level=logging.INFO)\n",
    "logger = logging.getLogger()"
   ]
  },
  {
   "cell_type": "code",
   "execution_count": null,
   "id": "b330819c",
   "metadata": {},
   "outputs": [],
   "source": [
    "# -- load script params\n",
    "params = None\n",
    "with open(fname, 'r') as y_file:\n",
    "    params = yaml.load(y_file, Loader=yaml.FullLoader)\n",
    "    logger.info('loaded params...')\n",
    "    pp = pprint.PrettyPrinter(indent=4)\n",
    "    pp.pprint(params)"
   ]
  },
  {
   "cell_type": "code",
   "execution_count": null,
   "id": "26bef0b2",
   "metadata": {},
   "outputs": [],
   "source": [
    "app_main(args=params, resume_preempt=resume_preempt)"
   ]
  }
 ],
 "metadata": {
  "kernelspec": {
   "display_name": "Python 3 (ipykernel)",
   "language": "python",
   "name": "python3"
  },
  "language_info": {
   "codemirror_mode": {
    "name": "ipython",
    "version": 3
   },
   "file_extension": ".py",
   "mimetype": "text/x-python",
   "name": "python",
   "nbconvert_exporter": "python",
   "pygments_lexer": "ipython3",
   "version": "3.10.9"
  }
 },
 "nbformat": 4,
 "nbformat_minor": 5
}
