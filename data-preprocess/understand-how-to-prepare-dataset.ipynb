{
 "cells": [
  {
   "cell_type": "code",
   "execution_count": 14,
   "id": "d6056604",
   "metadata": {},
   "outputs": [],
   "source": [
    "# python extract_video_frame.py -input_file_list sample_video_extract_list.csv -target_fold ./sample_frames"
   ]
  },
  {
   "cell_type": "markdown",
   "id": "55b93199",
   "metadata": {},
   "source": [
    "## Introduction\n",
    "\n",
    "Given the 'mp4' file of all the videos, this notebook extracts all the audio file and 16 number of frames with same interval."
   ]
  },
  {
   "cell_type": "markdown",
   "id": "1802b458",
   "metadata": {},
   "source": [
    "## part 1. extract audio"
   ]
  },
  {
   "cell_type": "markdown",
   "id": "2f019e9c",
   "metadata": {},
   "source": [
    "first we should create a folder called \"sample_audio\".\n",
    "\n",
    "then we should create a list containing all the path of the videos.\n",
    "\n",
    "the extract audio files will be put in the folder \"sample_audio\"."
   ]
  },
  {
   "cell_type": "code",
   "execution_count": 15,
   "id": "96d24052",
   "metadata": {},
   "outputs": [],
   "source": [
    "import os\n",
    "import numpy as np\n",
    "import argparse\n",
    "\n",
    "input_filelist = ['./sample_video/00W1lcxW-WU_40.000.mp4','./sample_video/KlsG1EnBEjc_000361.mp4']\n",
    "args = {}\n",
    "args['target_fold'] = './sample_audio/'\n",
    "from easydict import EasyDict\n",
    "args = EasyDict(args)"
   ]
  },
  {
   "cell_type": "markdown",
   "id": "f6a3071b",
   "metadata": {},
   "source": [
    "### part 1.1 first resample audio"
   ]
  },
  {
   "cell_type": "code",
   "execution_count": 16,
   "id": "9066dd7b",
   "metadata": {},
   "outputs": [
    {
     "name": "stderr",
     "output_type": "stream",
     "text": [
      "ffmpeg version 4.4.4 Copyright (c) 2000-2023 the FFmpeg developers\n",
      "  built with Apple clang version 14.0.3 (clang-1403.0.22.14.1)\n",
      "  configuration: --prefix='/opt/homebrew/Cellar/ffmpeg@4/4.4.4' --enable-shared --enable-pthreads --enable-version3 --cc=clang --host-cflags= --host-ldflags= --enable-avresample --enable-ffplay --enable-gnutls --enable-gpl --enable-libaom --enable-libbluray --enable-libdav1d --enable-libmp3lame --enable-libopus --enable-librav1e --enable-librist --enable-librubberband --enable-libsnappy --enable-libsrt --enable-libtesseract --enable-libtheora --enable-libvidstab --enable-libvmaf --enable-libvorbis --enable-libvpx --enable-libwebp --enable-libx264 --enable-libx265 --enable-libxml2 --enable-libxvid --enable-lzma --enable-libfontconfig --enable-libfreetype --enable-frei0r --enable-libass --enable-libopencore-amrnb --enable-libopencore-amrwb --enable-libopenjpeg --enable-libspeex --enable-libsoxr --enable-libzmq --enable-libzimg --disable-libjack --disable-indev=jack --enable-videotoolbox\n",
      "  libavutil      56. 70.100 / 56. 70.100\n",
      "  libavcodec     58.134.100 / 58.134.100\n",
      "  libavformat    58. 76.100 / 58. 76.100\n",
      "  libavdevice    58. 13.100 / 58. 13.100\n",
      "  libavfilter     7.110.100 /  7.110.100\n",
      "  libavresample   4.  0.  0 /  4.  0.  0\n",
      "  libswscale      5.  9.100 /  5.  9.100\n",
      "  libswresample   3.  9.100 /  3.  9.100\n",
      "  libpostproc    55.  9.100 / 55.  9.100\n",
      "Input #0, mov,mp4,m4a,3gp,3g2,mj2, from './sample_video/00W1lcxW-WU_40.000.mp4':\n",
      "  Metadata:\n",
      "    major_brand     : isom\n",
      "    minor_version   : 512\n",
      "    compatible_brands: isomiso2avc1mp41\n",
      "    encoder         : Lavf57.83.100\n",
      "  Duration: 00:00:10.02, start: 0.000000, bitrate: 200 kb/s\n",
      "  Stream #0:0(und): Video: h264 (High) (avc1 / 0x31637661), yuv420p, 256x144 [SAR 1:1 DAR 16:9], 67 kb/s, 12.50 fps, 12.50 tbr, 12800 tbn, 25 tbc (default)\n",
      "    Metadata:\n",
      "      handler_name    : VideoHandler\n",
      "      vendor_id       : [0][0][0][0]\n",
      "  Stream #0:1(und): Audio: aac (LC) (mp4a / 0x6134706D), 44100 Hz, stereo, fltp, 127 kb/s (default)\n",
      "    Metadata:\n",
      "      handler_name    : SoundHandler\n",
      "      vendor_id       : [0][0][0][0]\n",
      "Stream mapping:\n",
      "  Stream #0:1 -> #0:0 (aac (native) -> pcm_s16le (native))\n",
      "Press [q] to stop, [?] for help\n",
      "Output #0, wav, to './sample_audio//00W1lcxW-WU_40.000_intermediate.wav':\n",
      "  Metadata:\n",
      "    major_brand     : isom\n",
      "    minor_version   : 512\n",
      "    compatible_brands: isomiso2avc1mp41\n",
      "    ISFT            : Lavf58.76.100\n",
      "  Stream #0:0(und): Audio: pcm_s16le ([1][0][0][0] / 0x0001), 16000 Hz, stereo, s16, 512 kb/s (default)\n",
      "    Metadata:\n",
      "      handler_name    : SoundHandler\n",
      "      vendor_id       : [0][0][0][0]\n",
      "      encoder         : Lavc58.134.100 pcm_s16le\n",
      "size=       1kB time=00:00:00.00 bitrate=N/A speed=   0x    \r",
      "size=     626kB time=00:00:10.00 bitrate= 512.1kbits/s speed= 759x    \n",
      "video:0kB audio:625kB subtitle:0kB other streams:0kB global headers:0kB muxing overhead: 0.012178%\n",
      "ffmpeg version 4.4.4 Copyright (c) 2000-2023 the FFmpeg developers\n",
      "  built with Apple clang version 14.0.3 (clang-1403.0.22.14.1)\n",
      "  configuration: --prefix='/opt/homebrew/Cellar/ffmpeg@4/4.4.4' --enable-shared --enable-pthreads --enable-version3 --cc=clang --host-cflags= --host-ldflags= --enable-avresample --enable-ffplay --enable-gnutls --enable-gpl --enable-libaom --enable-libbluray --enable-libdav1d --enable-libmp3lame --enable-libopus --enable-librav1e --enable-librist --enable-librubberband --enable-libsnappy --enable-libsrt --enable-libtesseract --enable-libtheora --enable-libvidstab --enable-libvmaf --enable-libvorbis --enable-libvpx --enable-libwebp --enable-libx264 --enable-libx265 --enable-libxml2 --enable-libxvid --enable-lzma --enable-libfontconfig --enable-libfreetype --enable-frei0r --enable-libass --enable-libopencore-amrnb --enable-libopencore-amrwb --enable-libopenjpeg --enable-libspeex --enable-libsoxr --enable-libzmq --enable-libzimg --disable-libjack --disable-indev=jack --enable-videotoolbox\n",
      "  libavutil      56. 70.100 / 56. 70.100\n",
      "  libavcodec     58.134.100 / 58.134.100\n",
      "  libavformat    58. 76.100 / 58. 76.100\n",
      "  libavdevice    58. 13.100 / 58. 13.100\n",
      "  libavfilter     7.110.100 /  7.110.100\n",
      "  libavresample   4.  0.  0 /  4.  0.  0\n",
      "  libswscale      5.  9.100 /  5.  9.100\n",
      "  libswresample   3.  9.100 /  3.  9.100\n",
      "  libpostproc    55.  9.100 / 55.  9.100\n",
      "Input #0, mov,mp4,m4a,3gp,3g2,mj2, from './sample_video/KlsG1EnBEjc_000361.mp4':\n",
      "  Metadata:\n",
      "    major_brand     : isom\n",
      "    minor_version   : 512\n",
      "    compatible_brands: isomiso2avc1mp41\n",
      "    encoder         : Lavf58.20.100\n",
      "  Duration: 00:00:13.35, start: 0.000000, bitrate: 1683 kb/s\n",
      "  Stream #0:0(und): Video: h264 (Main) (avc1 / 0x31637661), yuv420p(tv, bt709), 1280x720 [SAR 1:1 DAR 16:9], 1551 kb/s, 29.97 fps, 29.97 tbr, 90k tbn, 59.94 tbc (default)\n",
      "    Metadata:\n",
      "      handler_name    : ISO Media file produced by Google Inc.\n",
      "      vendor_id       : [0][0][0][0]\n",
      "  Stream #0:1(und): Audio: aac (LC) (mp4a / 0x6134706D), 44100 Hz, stereo, fltp, 125 kb/s (default)\n",
      "    Metadata:\n",
      "      handler_name    : ISO Media file produced by Google Inc.\n",
      "      vendor_id       : [0][0][0][0]\n",
      "Stream mapping:\n",
      "  Stream #0:1 -> #0:0 (aac (native) -> pcm_s16le (native))\n",
      "Press [q] to stop, [?] for help\n",
      "Output #0, wav, to './sample_audio//KlsG1EnBEjc_000361_intermediate.wav':\n",
      "  Metadata:\n",
      "    major_brand     : isom\n",
      "    minor_version   : 512\n",
      "    compatible_brands: isomiso2avc1mp41\n",
      "    ISFT            : Lavf58.76.100\n",
      "  Stream #0:0(und): Audio: pcm_s16le ([1][0][0][0] / 0x0001), 16000 Hz, stereo, s16, 512 kb/s (default)\n",
      "    Metadata:\n",
      "      handler_name    : ISO Media file produced by Google Inc.\n",
      "      vendor_id       : [0][0][0][0]\n",
      "      encoder         : Lavc58.134.100 pcm_s16le\n",
      "size=       0kB time=00:00:00.00 bitrate=N/A speed=   0x    \r",
      "size=     626kB time=00:00:10.00 bitrate= 512.1kbits/s speed=1.01e+03x    \n",
      "video:0kB audio:626kB subtitle:0kB other streams:0kB global headers:0kB muxing overhead: 0.012177%\n"
     ]
    }
   ],
   "source": [
    "for i in range(len(input_filelist)):\n",
    "    input_f = input_filelist[i]\n",
    "    ext_len = len(input_f.split('/')[-1].split('.')[-1])\n",
    "    video_id = input_f.split('/')[-1][:-ext_len-1]\n",
    "    output_f_1 = args.target_fold + '/' + video_id + '_intermediate.wav'\n",
    "    os.system('ffmpeg -i {:s} -vn -ar 16000 {:s}'.format(input_f, output_f_1)) # save an intermediate file"
   ]
  },
  {
   "cell_type": "markdown",
   "id": "748cf634",
   "metadata": {},
   "source": [
    "### part 1.2. then extract the first channel"
   ]
  },
  {
   "cell_type": "code",
   "execution_count": 17,
   "id": "c1320a13",
   "metadata": {},
   "outputs": [],
   "source": [
    "# then extract the first channel\n",
    "for i in range(len(input_filelist)):\n",
    "    input_f = input_filelist[i]\n",
    "    ext_len = len(input_f.split('/')[-1].split('.')[-1])\n",
    "    video_id = input_f.split('/')[-1][:-ext_len-1]\n",
    "    output_f_1 = args.target_fold + '/' + video_id + '_intermediate.wav'\n",
    "    output_f_2 = args.target_fold + '/' + video_id + '.wav'\n",
    "    os.system('sox {:s} {:s} remix 1'.format(output_f_1, output_f_2))\n",
    "    # remove the intermediate file\n",
    "    os.remove(output_f_1)"
   ]
  },
  {
   "cell_type": "markdown",
   "id": "4d8d4772",
   "metadata": {},
   "source": [
    "## part 2. extract video"
   ]
  },
  {
   "cell_type": "code",
   "execution_count": 18,
   "id": "4aa1c572",
   "metadata": {},
   "outputs": [],
   "source": [
    "import os.path\n",
    "import cv2\n",
    "import numpy as np\n",
    "from PIL import Image\n",
    "import torchvision.transforms as T\n",
    "from torchvision.utils import save_image"
   ]
  },
  {
   "cell_type": "code",
   "execution_count": 19,
   "id": "405b34db",
   "metadata": {},
   "outputs": [],
   "source": [
    "preprocess = T.Compose([\n",
    "    T.Resize(224),\n",
    "    T.CenterCrop(224),\n",
    "    T.ToTensor()])"
   ]
  },
  {
   "cell_type": "code",
   "execution_count": 20,
   "id": "159d87b4",
   "metadata": {},
   "outputs": [],
   "source": [
    "input_video_path = './sample_video/00W1lcxW-WU_40.000.mp4'\n",
    "target_fold = './sample_frames/'\n",
    "extract_frame_num=16"
   ]
  },
  {
   "cell_type": "code",
   "execution_count": 21,
   "id": "2347d306",
   "metadata": {},
   "outputs": [],
   "source": [
    "def extract_frame(input_video_path, target_fold, extract_frame_num=16):\n",
    "    # TODO: you can define your own way to extract video_id\n",
    "    ext_len = len(input_video_path.split('/')[-1].split('.')[-1])\n",
    "    video_id = input_video_path.split('/')[-1][:-ext_len-1]\n",
    "    vidcap = cv2.VideoCapture(input_video_path)\n",
    "    fps = vidcap.get(cv2.CAP_PROP_FPS)\n",
    "    # this is to avoid vggsound video's bug on not accurate frame count\n",
    "    total_frame_num = min(int(vidcap.get(cv2.CAP_PROP_FRAME_COUNT)), int(fps * 10))\n",
    "    for i in range(extract_frame_num):\n",
    "        frame_idx = int(i * (total_frame_num/extract_frame_num))\n",
    "        print('Extract frame {:d} from original frame {:d}, total video frame {:d} at frame rate {:d}.'.format(i, frame_idx, total_frame_num, int(fps)))\n",
    "        vidcap.set(cv2.CAP_PROP_POS_FRAMES, frame_idx - 1)\n",
    "        _, frame = vidcap.read()\n",
    "        cv2_im = cv2.cvtColor(frame, cv2.COLOR_BGR2RGB)\n",
    "        pil_im = Image.fromarray(cv2_im)\n",
    "        image_tensor = preprocess(pil_im)\n",
    "        # save in 'target_path/frame_{i}/video_id.jpg'\n",
    "        if os.path.exists(target_fold + '/' + video_id + '/') == False:        \n",
    "            os.makedirs(target_fold + '/' + video_id + '/')\n",
    "        # my nodification: here I make the length of frame to be \"2\" \n",
    "        save_image(image_tensor, target_fold + '/' + video_id + '/' + 'frame_{:02}'.format(i) + '.jpg')\n",
    "        \n",
    "        #if os.path.exists(target_fold + '/frame_{:d}/'.format(i)) == False:\n",
    "            #os.makedirs(target_fold + '/frame_{:d}/'.format(i))\n",
    "        #save_image(image_tensor, target_fold + '/frame_{:d}/'.format(i) + video_id + '.jpg')"
   ]
  },
  {
   "cell_type": "code",
   "execution_count": 22,
   "id": "ecac2963",
   "metadata": {},
   "outputs": [
    {
     "name": "stdout",
     "output_type": "stream",
     "text": [
      "Extract frame 0 from original frame 0, total video frame 125 at frame rate 12.\n",
      "Extract frame 1 from original frame 7, total video frame 125 at frame rate 12.\n",
      "Extract frame 2 from original frame 15, total video frame 125 at frame rate 12.\n",
      "Extract frame 3 from original frame 23, total video frame 125 at frame rate 12.\n",
      "Extract frame 4 from original frame 31, total video frame 125 at frame rate 12.\n",
      "Extract frame 5 from original frame 39, total video frame 125 at frame rate 12.\n",
      "Extract frame 6 from original frame 46, total video frame 125 at frame rate 12.\n",
      "Extract frame 7 from original frame 54, total video frame 125 at frame rate 12.\n",
      "Extract frame 8 from original frame 62, total video frame 125 at frame rate 12.\n",
      "Extract frame 9 from original frame 70, total video frame 125 at frame rate 12.\n",
      "Extract frame 10 from original frame 78, total video frame 125 at frame rate 12.\n",
      "Extract frame 11 from original frame 85, total video frame 125 at frame rate 12.\n",
      "Extract frame 12 from original frame 93, total video frame 125 at frame rate 12.\n",
      "Extract frame 13 from original frame 101, total video frame 125 at frame rate 12.\n",
      "Extract frame 14 from original frame 109, total video frame 125 at frame rate 12.\n",
      "Extract frame 15 from original frame 117, total video frame 125 at frame rate 12.\n"
     ]
    }
   ],
   "source": [
    "extract_frame(input_video_path, target_fold, extract_frame_num=16)"
   ]
  },
  {
   "cell_type": "code",
   "execution_count": 23,
   "id": "9f62615e",
   "metadata": {},
   "outputs": [],
   "source": [
    "args = {}\n",
    "args['input_file_list'] = '../../../data/vgg-sound/train.csv'\n",
    "args['target_fold'] = './sample_frames/'\n",
    "\n",
    "from easydict import EasyDict\n",
    "args = EasyDict(args)"
   ]
  },
  {
   "cell_type": "code",
   "execution_count": 24,
   "id": "eabc08e7",
   "metadata": {},
   "outputs": [
    {
     "name": "stdout",
     "output_type": "stream",
     "text": [
      "processing video 0: ./sample_video/00W1lcxW-WU_40.000.mp4\n",
      "Extract frame 0 from original frame 0, total video frame 125 at frame rate 12.\n",
      "Extract frame 1 from original frame 7, total video frame 125 at frame rate 12.\n",
      "Extract frame 2 from original frame 15, total video frame 125 at frame rate 12.\n",
      "Extract frame 3 from original frame 23, total video frame 125 at frame rate 12.\n",
      "Extract frame 4 from original frame 31, total video frame 125 at frame rate 12.\n",
      "Extract frame 5 from original frame 39, total video frame 125 at frame rate 12.\n",
      "Extract frame 6 from original frame 46, total video frame 125 at frame rate 12.\n",
      "Extract frame 7 from original frame 54, total video frame 125 at frame rate 12.\n",
      "Extract frame 8 from original frame 62, total video frame 125 at frame rate 12.\n",
      "Extract frame 9 from original frame 70, total video frame 125 at frame rate 12.\n",
      "Extract frame 10 from original frame 78, total video frame 125 at frame rate 12.\n",
      "Extract frame 11 from original frame 85, total video frame 125 at frame rate 12.\n",
      "Extract frame 12 from original frame 93, total video frame 125 at frame rate 12.\n",
      "Extract frame 13 from original frame 101, total video frame 125 at frame rate 12.\n",
      "Extract frame 14 from original frame 109, total video frame 125 at frame rate 12.\n",
      "Extract frame 15 from original frame 117, total video frame 125 at frame rate 12.\n",
      "processing video 1: ./sample_video/KlsG1EnBEjc_000361.mp4\n",
      "Extract frame 0 from original frame 0, total video frame 299 at frame rate 29.\n",
      "Extract frame 1 from original frame 18, total video frame 299 at frame rate 29.\n",
      "Extract frame 2 from original frame 37, total video frame 299 at frame rate 29.\n",
      "Extract frame 3 from original frame 56, total video frame 299 at frame rate 29.\n",
      "Extract frame 4 from original frame 74, total video frame 299 at frame rate 29.\n",
      "Extract frame 5 from original frame 93, total video frame 299 at frame rate 29.\n",
      "Extract frame 6 from original frame 112, total video frame 299 at frame rate 29.\n",
      "Extract frame 7 from original frame 130, total video frame 299 at frame rate 29.\n",
      "Extract frame 8 from original frame 149, total video frame 299 at frame rate 29.\n",
      "Extract frame 9 from original frame 168, total video frame 299 at frame rate 29.\n",
      "Extract frame 10 from original frame 186, total video frame 299 at frame rate 29.\n",
      "Extract frame 11 from original frame 205, total video frame 299 at frame rate 29.\n",
      "Extract frame 12 from original frame 224, total video frame 299 at frame rate 29.\n",
      "Extract frame 13 from original frame 242, total video frame 299 at frame rate 29.\n",
      "Extract frame 14 from original frame 261, total video frame 299 at frame rate 29.\n",
      "Extract frame 15 from original frame 280, total video frame 299 at frame rate 29.\n"
     ]
    }
   ],
   "source": [
    "input_file_list = ['./sample_video/00W1lcxW-WU_40.000.mp4','./sample_video/KlsG1EnBEjc_000361.mp4']\n",
    "for file_id in range(len(input_file_list)):\n",
    "    try:\n",
    "        print('processing video {:d}: {:s}'.format(file_id, input_filelist[file_id]))\n",
    "        extract_frame(input_filelist[file_id], args.target_fold)\n",
    "    except:\n",
    "        print('error with ', print(input_filelist[file_id]))"
   ]
  },
  {
   "cell_type": "code",
   "execution_count": null,
   "id": "b8fcbe2c",
   "metadata": {},
   "outputs": [],
   "source": []
  }
 ],
 "metadata": {
  "kernelspec": {
   "display_name": "Python 3 (ipykernel)",
   "language": "python",
   "name": "python3"
  },
  "language_info": {
   "codemirror_mode": {
    "name": "ipython",
    "version": 3
   },
   "file_extension": ".py",
   "mimetype": "text/x-python",
   "name": "python",
   "nbconvert_exporter": "python",
   "pygments_lexer": "ipython3",
   "version": "3.10.9"
  }
 },
 "nbformat": 4,
 "nbformat_minor": 5
}
